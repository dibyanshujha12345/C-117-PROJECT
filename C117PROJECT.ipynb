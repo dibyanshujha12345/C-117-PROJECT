{
  "nbformat": 4,
  "nbformat_minor": 0,
  "metadata": {
    "colab": {
      "name": "C117PROJECT.ipynb",
      "provenance": [],
      "authorship_tag": "ABX9TyOTGScEjXYG0ahT+NtRkTjd",
      "include_colab_link": true
    },
    "kernelspec": {
      "name": "python3",
      "display_name": "Python 3"
    },
    "language_info": {
      "name": "python"
    }
  },
  "cells": [
    {
      "cell_type": "markdown",
      "metadata": {
        "id": "view-in-github",
        "colab_type": "text"
      },
      "source": [
        "<a href=\"https://colab.research.google.com/github/dibyanshujha12345/C-117-PROJECT/blob/main/C117PROJECT.ipynb\" target=\"_parent\"><img src=\"https://colab.research.google.com/assets/colab-badge.svg\" alt=\"Open In Colab\"/></a>"
      ]
    },
    {
      "cell_type": "code",
      "source": [
        "import pandas as pd\n",
        "import csv\n",
        "\n",
        "df=pd.read_csv(\"BankNote_Authentication.csv\")"
      ],
      "metadata": {
        "id": "rMVnD7_oNeZ5"
      },
      "execution_count": null,
      "outputs": []
    },
    {
      "cell_type": "code",
      "execution_count": null,
      "metadata": {
        "id": "1Qm3VbGhMICC"
      },
      "outputs": [],
      "source": [
        "from sklearn.model_selection import train_test_split\n",
        "\n",
        "variance_data=df[\"variance\"]\n",
        "class_data=df[\"class\"]\n",
        "\n",
        "variance_train,variance_test,class_train,class_test=train_test_split(variance_data,class_data,test_size=0.25,random_state=0)\n"
      ]
    },
    {
      "cell_type": "code",
      "source": [
        "from sklearn.linear_model import LogisticRegression\n",
        "\n",
        "\n",
        "import numpy as np\n",
        "X=np.reshape(variance_train.ravel(),(len(variance_train),1))\n",
        "Y=np.reshape(class_train.ravel(),(len(class_train),1))\n",
        "classifier=LogisticRegression(random_state=0)\n",
        "classifier.fit(X,Y)"
      ],
      "metadata": {
        "colab": {
          "base_uri": "https://localhost:8080/"
        },
        "id": "yz008T9VNuhs",
        "outputId": "c0079efb-5eb4-464d-923b-6928ab640188"
      },
      "execution_count": null,
      "outputs": [
        {
          "output_type": "stream",
          "name": "stderr",
          "text": [
            "/usr/local/lib/python3.7/dist-packages/sklearn/utils/validation.py:993: DataConversionWarning: A column-vector y was passed when a 1d array was expected. Please change the shape of y to (n_samples, ), for example using ravel().\n",
            "  y = column_or_1d(y, warn=True)\n"
          ]
        },
        {
          "output_type": "execute_result",
          "data": {
            "text/plain": [
              "LogisticRegression(random_state=0)"
            ]
          },
          "metadata": {},
          "execution_count": 7
        }
      ]
    },
    {
      "cell_type": "code",
      "source": [
        "X_test=np.reshape(variance_test.ravel(),(len(variance_test),1))\n",
        "Y_test=np.reshape(class_test.ravel(),(len(class_test),1))\n",
        "\n",
        "class_prediction=classifier.predict(X_test)\n",
        "predicted_values=[]\n",
        "\n",
        "for i in class_prediction:\n",
        "  if(i==0):\n",
        "    predicted_values.append(\"no\")\n",
        "\n",
        "  else:\n",
        "    predicted_values.append(\"yes\")  \n",
        "\n",
        "actual_values=[]\n",
        "for i in Y_test.ravel():\n",
        "  if(i==0):\n",
        "    actual_values.append(\"no\")\n",
        "\n",
        "  else:\n",
        "    actual_values.append(\"yes\")\n",
        "\n",
        "      \n"
      ],
      "metadata": {
        "id": "k5rk09X0OY8k"
      },
      "execution_count": null,
      "outputs": []
    },
    {
      "cell_type": "code",
      "source": [
        "from sklearn.metrics import confusion_matrix\n",
        "import seaborn as sns\n",
        "import matplotlib.pyplot as plt\n",
        "\n",
        "labels=[\"Yes\",\"No\"]\n",
        "\n",
        "cm=confusion_matrix(actual_values,predicted_values)\n",
        "ax=plt.subplot()\n",
        "sns.heatmap(cm,annot=True,ax=ax)\n",
        "ax.set_xlabel('predicted')\n",
        "ax.set_ylabel('actual')\n",
        "ax.set_title('Confusion Matrix')"
      ],
      "metadata": {
        "colab": {
          "base_uri": "https://localhost:8080/",
          "height": 312
        },
        "id": "jDMemBd1Oo3D",
        "outputId": "e2728304-644b-44cb-d78f-2995710da956"
      },
      "execution_count": 10,
      "outputs": [
        {
          "output_type": "execute_result",
          "data": {
            "text/plain": [
              "Text(0.5, 1.0, 'Confusion Matrix')"
            ]
          },
          "metadata": {},
          "execution_count": 10
        },
        {
          "output_type": "display_data",
          "data": {
            "text/plain": [
              "<Figure size 432x288 with 2 Axes>"
            ],
            "image/png": "[encoded data removed]"
          },
          "metadata": {
            "needs_background": "light"
          }
        }
      ]
    },
    {
      "cell_type": "code",
      "source": [
        ""
      ],
      "metadata": {
        "id": "o141c7WqPKhx"
      },
      "execution_count": null,
      "outputs": []
    }
  ]
}